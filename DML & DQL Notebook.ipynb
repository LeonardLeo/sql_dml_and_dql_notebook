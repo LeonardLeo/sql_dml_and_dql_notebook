{
    "metadata": {
        "kernelspec": {
            "name": "SQL",
            "display_name": "SQL",
            "language": "sql"
        },
        "language_info": {
            "name": "sql",
            "version": ""
        }
    },
    "nbformat_minor": 2,
    "nbformat": 4,
    "cells": [
        {
            "cell_type": "markdown",
            "source": [
                "# **WORKING WITH DML & DQL**"
            ],
            "metadata": {
                "azdata_cell_guid": "b046770e-2e7d-430e-9b16-5784b2863740"
            },
            "attachments": {}
        },
        {
            "cell_type": "markdown",
            "source": [
                "**Data Manipulation Language (DML)**\n",
                "\n",
                "1. _Inserting values into tables (INSERT INTO... VALUES...)_\n",
                "2. _Updating records in the table (UPDATE... SET...WHERE...)_\n",
                "3. _Deleting records in the table (DELETE FROM...WHERE...)_"
            ],
            "metadata": {
                "azdata_cell_guid": "626317b3-721a-4903-9e94-98ce69e59622"
            },
            "attachments": {}
        },
        {
            "cell_type": "markdown",
            "source": [
                "**INSERTING RECORDS IN A TABLE**"
            ],
            "metadata": {
                "azdata_cell_guid": "5f3a9067-4811-416a-bb18-c45328344be8"
            },
            "attachments": {}
        },
        {
            "cell_type": "code",
            "source": [
                "-- Inserting Values into the Customers Table\r\n",
                "-- METHOD 1(Using the DEFAULT PARAMETERS) -- SQL Inserts values into all the columns\r\n",
                "\r\n",
                "use Argos_Adventurers\r\n",
                "\r\n",
                "insert into Customers\r\n",
                "VALUES\r\n",
                "    (1, 'Sun Chan', 'Lagos', 15, '08011111111'),\r\n",
                "    (2, 'Leo', 'Abuja', 28, '09076488226'),\r\n",
                "    (3, 'Edsam', 'Benin', 22, '08015624262'),\r\n",
                "    (4, 'Jonas', 'Lagos', 18, '09099911233')"
            ],
            "metadata": {
                "azdata_cell_guid": "d4f13f63-5571-4225-adfe-d4c374eccadb",
                "language": "sql"
            },
            "outputs": [],
            "execution_count": null
        },
        {
            "cell_type": "code",
            "source": [
                "-- Inserting More Values into the Customers Table\r\n",
                "-- METHOD 2(Specify the PARAMETERS)\r\n",
                "\r\n",
                "use Argos_Adventurers\r\n",
                "\r\n",
                "insert into Customers(CustomerID, Name, Address, PhoneNumber)\r\n",
                "VALUES\r\n",
                "    (6, 'Nabaka', 'Benin', '08015689111')\r\n",
                "\r\n",
                "\r\n",
                "-- WATCH THE VIDEO ON THIS\r\n",
                "-- We could go ahead and remove insertion into the age column in method 2 of parameter selection ONLY BECAUSE\r\n",
                "-- The AGE column accepts NULL VALUES"
            ],
            "metadata": {
                "language": "sql",
                "azdata_cell_guid": "6a5764bb-4f70-4262-9a6d-13b6c2fb3091"
            },
            "outputs": [],
            "execution_count": null
        },
        {
            "cell_type": "code",
            "source": [
                "-- Inserting Values into the Products Table\r\n",
                "-- METHOD 1(Using the DEFAULT PARAMETERS) -- SQL Inserts values into all the columns\r\n",
                "\r\n",
                "use Argos_Adventurers\r\n",
                "\r\n",
                "insert into Products\r\n",
                "VALUES\r\n",
                "    (1, 'iPhone15', 345.21, 15),\r\n",
                "    (2, 'Samsung J5', 25.67, 28),\r\n",
                "    (3, 'Tecno P3', 678.23, 22),\r\n",
                "    (4, 'Samsung Tab', 18.00, 18)"
            ],
            "metadata": {
                "language": "sql",
                "azdata_cell_guid": "91a76d44-cbf5-4dab-9b82-5425852c23e6"
            },
            "outputs": [
                {
                    "output_type": "display_data",
                    "data": {
                        "text/html": "(4 rows affected)"
                    },
                    "metadata": {}
                },
                {
                    "output_type": "display_data",
                    "data": {
                        "text/html": "Total execution time: 00:00:01.130"
                    },
                    "metadata": {}
                }
            ],
            "execution_count": 4
        },
        {
            "cell_type": "code",
            "source": [
                "-- Inserting Values into the Orders Table\r\n",
                "-- METHOD 1(Using the DEFAULT PARAMETERS) -- SQL Inserts values into all the columns\r\n",
                "\r\n",
                "use Argos_Adventurers\r\n",
                "\r\n",
                "insert into Orders\r\n",
                "VALUES\r\n",
                "    (1, 2, 4, 1, 18.00),\r\n",
                "    (2, 5, 1, 1, 345.21),\r\n",
                "    (3, 2, 1, 1, 345.21),\r\n",
                "    (4, 3, 2, 1, 25.67)"
            ],
            "metadata": {
                "language": "sql",
                "azdata_cell_guid": "13a4d9cb-928d-467e-b5c1-4ffd1392b8ea"
            },
            "outputs": [],
            "execution_count": null
        },
        {
            "cell_type": "code",
            "source": [
                "-- WHEN WORKING WITH INSERTION OF VALUES, PLEASE REMEMBER TO PUT A COMMA (,) AFTER EACH VALUE."
            ],
            "metadata": {
                "language": "sql",
                "azdata_cell_guid": "e0da2678-aec8-496b-a56b-6f387df553f6"
            },
            "outputs": [],
            "execution_count": null
        },
        {
            "cell_type": "markdown",
            "source": [
                "**UPDATING RECORDS IN A TABLE**"
            ],
            "metadata": {
                "language": "sql",
                "azdata_cell_guid": "eb6dc6c6-e576-46d3-aabd-6a2f81ba753a"
            },
            "attachments": {}
        },
        {
            "cell_type": "code",
            "source": [
                "-- Updating a RECORD in the Customers Table\r\n",
                "\r\n",
                "use Argos_Adventurers\r\n",
                "\r\n",
                "Update Customers\r\n",
                "Set Name = 'Moses'\r\n",
                "Where CustomerID = 5"
            ],
            "metadata": {
                "language": "sql",
                "azdata_cell_guid": "92582941-738d-4949-9671-51b822d7942d"
            },
            "outputs": [],
            "execution_count": null
        },
        {
            "cell_type": "code",
            "source": [
                "-- Updating another RECORD in the Customers Table\r\n",
                "\r\n",
                "use Argos_Adventurers\r\n",
                "\r\n",
                "Update Customers\r\n",
                "Set Age = 35\r\n",
                "Where Address = 'benin'"
            ],
            "metadata": {
                "language": "sql",
                "azdata_cell_guid": "b98fb0cd-8d42-4f73-a633-bb0bc2479aa9"
            },
            "outputs": [],
            "execution_count": null
        },
        {
            "cell_type": "code",
            "source": [
                "-- Updating another RECORD in the Customers Table\r\n",
                "\r\n",
                "Update Customers\r\n",
                "Set PhoneNumber = 0\r\n",
                "Where Address = 'Abroad' or Address = 'Benin'"
            ],
            "metadata": {
                "language": "sql",
                "azdata_cell_guid": "9270ef9f-2c45-4b52-bb6a-6e2efb8ebade"
            },
            "outputs": [],
            "execution_count": null
        },
        {
            "cell_type": "markdown",
            "source": [
                "**DELETING RECORDS IN A TABLE**"
            ],
            "metadata": {
                "language": "sql",
                "azdata_cell_guid": "9d248cab-07c3-4219-a9e0-8a1281807bcd"
            },
            "attachments": {}
        },
        {
            "cell_type": "code",
            "source": [
                "-- Before deleting any records lets first see the records in each table and evaluate"
            ],
            "metadata": {
                "language": "sql",
                "azdata_cell_guid": "d3beffd0-dba4-4063-8896-3a4e41f607e4"
            },
            "outputs": [],
            "execution_count": null
        },
        {
            "cell_type": "code",
            "source": [
                "use Argos_Adventurers\r\n",
                "Select * from Customers"
            ],
            "metadata": {
                "language": "sql",
                "azdata_cell_guid": "c7bf480a-1864-47bd-8441-3f61e8a4cbd4"
            },
            "outputs": [],
            "execution_count": null
        },
        {
            "cell_type": "code",
            "source": [
                "use Argos_Adventurers\r\n",
                "Select * from Products"
            ],
            "metadata": {
                "language": "sql",
                "azdata_cell_guid": "9d781cb0-a116-474e-9dfc-ca742ad2920b"
            },
            "outputs": [],
            "execution_count": null
        },
        {
            "cell_type": "code",
            "source": [
                "use Argos_Adventurers\r\n",
                "Select * from Orders"
            ],
            "metadata": {
                "language": "sql",
                "azdata_cell_guid": "fcb8152d-9ac7-4e69-aeaa-c723e840dbd5"
            },
            "outputs": [],
            "execution_count": null
        },
        {
            "cell_type": "code",
            "source": [
                "-- Deleting records from the Customers Table\r\n",
                "\r\n",
                "Use Argos_Adventurers\r\n",
                "\r\n",
                "Delete from customers\r\n",
                "where Name = 'Leo' or Age > 25\r\n",
                "\r\n",
                "Select * from Customers"
            ],
            "metadata": {
                "language": "sql",
                "azdata_cell_guid": "4c0dac82-643c-488e-b05b-adcf4e38b948"
            },
            "outputs": [],
            "execution_count": null
        },
        {
            "cell_type": "code",
            "source": [
                "-- Deleting records from the Customers Table\r\n",
                "\r\n",
                "Use Argos_Adventurers\r\n",
                "\r\n",
                "Delete from customers\r\n",
                "where Address = 'Lagos'\r\n",
                "\r\n",
                "Select * from Customers"
            ],
            "metadata": {
                "language": "sql",
                "azdata_cell_guid": "69a064b4-3f5e-4bca-9691-33b9ed3eebe9"
            },
            "outputs": [],
            "execution_count": null
        },
        {
            "cell_type": "code",
            "source": [
                "/*\r\n",
                "LOGIC GATE\r\n",
                "\r\n",
                "\r\n",
                "OR COMMAND (+)\r\n",
                "True + True = TRUE              1 + 1 = 1\r\n",
                "True + False = True             1 + 0 = 1\r\n",
                "False + True = TRUE             0 + 1 = 1\r\n",
                "False + False = False           0 + 0 = 0\r\n",
                "\r\n",
                "\r\n",
                "AND COMMAND(*)\r\n",
                "True * True = TRUE              1 * 1 = 1\r\n",
                "True * False = False            1 * 0 = 0\r\n",
                "False * True = False            0 * 1 = 0\r\n",
                "False * False = False           0 * 0 = 0\r\n",
                "*/"
            ],
            "metadata": {
                "language": "sql",
                "azdata_cell_guid": "fefbae3c-d495-496a-9a6c-5eb230e85662"
            },
            "outputs": [],
            "execution_count": null
        },
        {
            "cell_type": "code",
            "source": [
                "-- COMPARISON OPERATORS\r\n",
                "1) Equal to (=)\r\n",
                "2) Greater than (>)\r\n",
                "3) Less than (<)\r\n",
                "                    --> ASSIGNMENT\r\n",
                "4) Not Equal to\r\n",
                "5) Greater than or Equal to\r\n",
                "6) Less than or Equal to\r\n",
                "\r\n",
                "\r\n",
                "\r\n",
                "-- LOGICAL OPERATORS\r\n",
                "1) OR\r\n",
                "2) AND\r\n",
                "3) NOT\r\n",
                "\r\n",
                "\r\n",
                "\r\n",
                "-- AGGREGATE FUNCTIONS\r\n",
                "1) SUM()\r\n",
                "2) COUNT()\r\n",
                "3) AVG()\r\n",
                "4) DISTINCT COUNT()\r\n",
                "5) STD()\r\n",
                "6) VAR()\r\n",
                "\r\n",
                "\r\n",
                "\r\n",
                "/*\r\n",
                "DQL\r\n",
                "1) SELECT\r\n",
                "2) FROM\r\n",
                "3) WHERE\r\n",
                "4) Logical Operators Work\r\n",
                "5) Comparison Operators Work\r\n",
                "6) Aggregate Functions\r\n",
                "7) Alias \r\n",
                "8) Understanding the NATURE BEHIND NAMING in SQL\r\n",
                "*/"
            ],
            "metadata": {
                "language": "sql",
                "azdata_cell_guid": "e76c7f73-e066-4e65-9be3-f4e066944c00"
            },
            "outputs": [],
            "execution_count": null
        }
    ]
}